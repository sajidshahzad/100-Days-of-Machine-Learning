{
 "cells": [
  {
   "cell_type": "code",
   "execution_count": 1,
   "metadata": {},
   "outputs": [],
   "source": [
    "import numpy as np\n",
    "import pandas as pd\n",
    "import seaborn as sns\n",
    "import matplotlib.pyplot as plt"
   ]
  },
  {
   "cell_type": "code",
   "execution_count": 2,
   "metadata": {},
   "outputs": [],
   "source": [
    "df = sns.load_dataset('iris')"
   ]
  },
  {
   "cell_type": "code",
   "execution_count": 3,
   "metadata": {},
   "outputs": [],
   "source": [
    "iris_setosa = df[df['species'] == 'setosa']\n",
    "iris_versicolor = df[df['species'] == 'versicolor']\n",
    "iris_virginica = df[df['species'] == 'virginica']\n"
   ]
  },
  {
   "cell_type": "markdown",
   "metadata": {},
   "source": [
    "# Meauserment of Speard"
   ]
  },
  {
   "cell_type": "markdown",
   "metadata": {},
   "source": [
    "gives us a idea how much data is speard or varying. \n",
    "\n",
    "1. Range\n",
    "2. interquartaile Range\n",
    "3. variance\n",
    "4. standard deviation"
   ]
  },
  {
   "cell_type": "markdown",
   "metadata": {},
   "source": [
    "# 1. Range\n",
    "     define the difference between largest and the smallest point in your data."
   ]
  },
  {
   "cell_type": "code",
   "execution_count": 4,
   "metadata": {},
   "outputs": [
    {
     "name": "stdout",
     "output_type": "stream",
     "text": [
      "The Range is:  0.8999999999999999\n"
     ]
    }
   ],
   "source": [
    "ran = np.max(iris_setosa['petal_length']) - np.min(iris_setosa['petal_length'])\n",
    "print(\"The Range is: \", ran)"
   ]
  },
  {
   "cell_type": "markdown",
   "metadata": {},
   "source": [
    "# 2. Percentaile\n",
    "      is a meausred used in statistics indicates the values below which is the given percentage of observation in a group of observation falls. \n",
    "      for example, the 20th percentaile is the value below within 20% of the observation maybe found"
   ]
  },
  {
   "cell_type": "code",
   "execution_count": 5,
   "metadata": {},
   "outputs": [
    {
     "name": "stdout",
     "output_type": "stream",
     "text": [
      "1.8\n",
      "8.2\n"
     ]
    }
   ],
   "source": [
    "my_list = [1,2,3,4,5,6,7,8,9]\n",
    "print(np.percentile(my_list, 10))\n",
    "print(np.percentile(my_list, 90))"
   ]
  },
  {
   "cell_type": "code",
   "execution_count": 20,
   "metadata": {},
   "outputs": [
    {
     "name": "stdout",
     "output_type": "stream",
     "text": [
      "1.7\n"
     ]
    }
   ],
   "source": [
    "print(np.percentile(iris_setosa['petal_length'], 95))"
   ]
  },
  {
   "cell_type": "markdown",
   "metadata": {},
   "source": [
    "# 3. Quartile\n",
    "       are the values thats divide the list of numbers into quartile.\n",
    "   -  put a list of numbers in order\n",
    "   -  then cut the list into four equals parts\n",
    "   -  the quartile is at the 'cut' "
   ]
  },
  {
   "cell_type": "code",
   "execution_count": 22,
   "metadata": {},
   "outputs": [
    {
     "name": "stdout",
     "output_type": "stream",
     "text": [
      "1.4\n",
      "1.5\n",
      "1.5750000000000002\n",
      "1.9\n"
     ]
    }
   ],
   "source": [
    "print(np.percentile(iris_setosa['petal_length'], 25))\n",
    "print(np.percentile(iris_setosa['petal_length'], 50))\n",
    "print(np.percentile(iris_setosa['petal_length'], 75))\n",
    "print(np.percentile(iris_setosa['petal_length'], 100))"
   ]
  },
  {
   "cell_type": "markdown",
   "metadata": {},
   "source": [
    "# 4. Interquartile Range\n",
    "      is the measure of statistical dispersion between upper (75th) quartile and lower (25th) quartile\n",
    "\n"
   ]
  },
  {
   "cell_type": "code",
   "execution_count": 23,
   "metadata": {},
   "outputs": [],
   "source": [
    "iqr = np.percentile(iris_setosa['petal_length'], 75) - np.percentile(iris_setosa['petal_length'], 25)"
   ]
  },
  {
   "cell_type": "code",
   "execution_count": 26,
   "metadata": {},
   "outputs": [
    {
     "name": "stdout",
     "output_type": "stream",
     "text": [
      "The interqutaile Range is : 0.17500000000000027\n"
     ]
    }
   ],
   "source": [
    "print(\"The interqutaile Range is :\", iqr)"
   ]
  },
  {
   "cell_type": "markdown",
   "metadata": {},
   "source": [
    "# 5. Mean Absoulute  Deviation\n",
    "    from mran, also called Mean Absoulue Deviation (MAD), describe the variation in the data set, in sense that it tells the average avsolute distance of each data point in the set.\n"
   ]
  },
  {
   "cell_type": "markdown",
   "metadata": {},
   "source": [
    "### Example \n",
    "\n",
    "2,5,1,6,7,3,11\n",
    "\n",
    "_**The mean is 5**_<br>\n",
    "(|2-5|+|5-5|+|1-5|+|6-5|+|7-5|+|3-5|+|11-5|)/7<br>\n",
    "3+0+4+1+2+2+6 = 18/7 = 2.5"
   ]
  },
  {
   "cell_type": "markdown",
   "metadata": {},
   "source": [
    "# 6. Variance\n",
    "      measures how far are data points spread out from the mean.\n",
    "      the variance is the computed by finding the difference between every data point and the mean. squaring them, summing them up and then taking the average of those numbers."
   ]
  },
  {
   "cell_type": "markdown",
   "metadata": {},
   "source": [
    "The squares are used during the calculation because they weight outliers more heavily than points that are near to the mean. This prevents that differeces avobe the mean neutralize those below the mean."
   ]
  },
  {
   "cell_type": "markdown",
   "metadata": {},
   "source": [
    "### Example\n",
    "\n",
    "2,5,1,6,7,3,11\n",
    "\n",
    "_**the mean is 5**_\n",
    "\n",
    "((2-5)^2+(5-5)^2+(1-5)^2+(6-5)^2+(7-5)^2+(3-5)^2+(11-5)^2)/7\n",
    "\n",
    "9+0+16+1+4+4+36 = 70/7 = 10\n",
    "\n"
   ]
  },
  {
   "cell_type": "code",
   "execution_count": 6,
   "metadata": {},
   "outputs": [
    {
     "data": {
      "text/plain": [
       "0.029555999999999995"
      ]
     },
     "execution_count": 6,
     "metadata": {},
     "output_type": "execute_result"
    }
   ],
   "source": [
    "np.var(iris_setosa['petal_length'])"
   ]
  },
  {
   "cell_type": "markdown",
   "metadata": {},
   "source": [
    "### The with the variance\n",
    "\n",
    "is that because of the squaring, it is not int the same unit of measurement as the original data.\n",
    "\n",
    "Let's say you are dealing with a daqtaset that contains centimeter values. Your variance would be in squared centimeters and therefore ot the best measurement.\n"
   ]
  },
  {
   "cell_type": "markdown",
   "metadata": {},
   "source": [
    "# 7. Variance Vs Median Absolute deviation\n",
    "      vaiance is easy to work with in comparision to MAD as it works on squaring (a smooth function) the deviation in comparison to MAD where we use modulus (a non smooth function).\n",
    "\n",
    "      Mathematically speaking smooth functions are easier to work with in comparison to non smooth functions"
   ]
  },
  {
   "cell_type": "markdown",
   "metadata": {},
   "source": [
    "# 8. Standard Deviation \n",
    "        The square root of variance is called the Standard Deviation. "
   ]
  },
  {
   "cell_type": "markdown",
   "metadata": {},
   "source": [
    "## Example\n",
    "\n",
    "2,3,1,6,7,3,11\n",
    "_**the mean is 5**_\n",
    "\n",
    "((2-5)^2+(5-5)^2+(1-5)^2+(6-5)^2+(7-5)^2+(3-5)^2+(11-5)^2)/7\n",
    "\n",
    "9+0+16+1+4+4+36 = 70/7 = 10\n",
    "\n",
    "SD = sqt(10) = 3.10\n",
    "  "
   ]
  },
  {
   "cell_type": "code",
   "execution_count": 7,
   "metadata": {},
   "outputs": [
    {
     "data": {
      "text/plain": [
       "0.17191858538273283"
      ]
     },
     "execution_count": 7,
     "metadata": {},
     "output_type": "execute_result"
    }
   ],
   "source": [
    "np.std(iris_setosa['petal_length'])"
   ]
  },
  {
   "cell_type": "markdown",
   "metadata": {},
   "source": [
    "# 10. Median Abuolute Deviaton "
   ]
  },
  {
   "cell_type": "markdown",
   "metadata": {},
   "source": [
    "MAD is the median of all the number obtained from subtracting and calculationg the absolute valueog of every observation with the median.\n",
    "\n",
    "### Example \n",
    "\n",
    "1,3,5,6,7,8,9\n",
    "|1-6|,|3-6|,|5-6|,|6-6|,|7-6|,|8-6|,|9-6|\n",
    "\n",
    "5,3,1,0,1,2,3\n",
    "\n",
    "after sotring 0,1,1,2,3,3,5 \n",
    "\n",
    "_**Median Absolute Deviation is 2**_"
   ]
  },
  {
   "cell_type": "code",
   "execution_count": 8,
   "metadata": {},
   "outputs": [
    {
     "ename": "ModuleNotFoundError",
     "evalue": "No module named 'statsmodels'",
     "output_type": "error",
     "traceback": [
      "\u001b[1;31m---------------------------------------------------------------------------\u001b[0m",
      "\u001b[1;31mModuleNotFoundError\u001b[0m                       Traceback (most recent call last)",
      "\u001b[1;32mc:\\Users\\sajid\\OneDrive\\Desktop\\100daysofpython\\statistics\\measp.ipynb Cell 29\u001b[0m in \u001b[0;36m<cell line: 1>\u001b[1;34m()\u001b[0m\n\u001b[1;32m----> <a href='vscode-notebook-cell:/c%3A/Users/sajid/OneDrive/Desktop/100daysofpython/statistics/measp.ipynb#X36sZmlsZQ%3D%3D?line=0'>1</a>\u001b[0m \u001b[39mfrom\u001b[39;00m \u001b[39mstatsmodels\u001b[39;00m \u001b[39mimport\u001b[39;00m robust\n",
      "\u001b[1;31mModuleNotFoundError\u001b[0m: No module named 'statsmodels'"
     ]
    }
   ],
   "source": [
    "from statsmodels import robust\n",
    "\n",
    "robust.mad(np.array([1,3,5,6,,7,8,9]))\n"
   ]
  },
  {
   "cell_type": "markdown",
   "metadata": {},
   "source": [
    "# 10. Standard Deviation vs Median Absolute Deviaton\n",
    "        just like mean vs median, Median Absolute Deviation is free from the effects of outliers from which Standard Deviation can suffer"
   ]
  },
  {
   "cell_type": "markdown",
   "metadata": {},
   "source": [
    "# 11. Box Plot"
   ]
  },
  {
   "cell_type": "code",
   "execution_count": 11,
   "metadata": {},
   "outputs": [
    {
     "name": "stderr",
     "output_type": "stream",
     "text": [
      "c:\\Users\\sajid\\AppData\\Local\\Programs\\Python\\Python310\\lib\\site-packages\\seaborn\\_decorators.py:36: FutureWarning: Pass the following variable as a keyword arg: x. From version 0.12, the only valid positional argument will be `data`, and passing other arguments without an explicit keyword will result in an error or misinterpretation.\n",
      "  warnings.warn(\n"
     ]
    },
    {
     "data": {
      "text/plain": [
       "<AxesSubplot:xlabel='petal_length'>"
      ]
     },
     "execution_count": 11,
     "metadata": {},
     "output_type": "execute_result"
    },
    {
     "data": {
      "image/png": "[encoded data removed]",
      "text/plain": [
       "<Figure size 432x288 with 1 Axes>"
      ]
     },
     "metadata": {
      "needs_background": "light"
     },
     "output_type": "display_data"
    }
   ],
   "source": [
    "sns.boxplot(iris_setosa['petal_length'])"
   ]
  },
  {
   "cell_type": "code",
   "execution_count": 14,
   "metadata": {},
   "outputs": [
    {
     "data": {
      "text/plain": [
       "<AxesSubplot:xlabel='species', ylabel='petal_length'>"
      ]
     },
     "execution_count": 14,
     "metadata": {},
     "output_type": "execute_result"
    },
    {
     "data": {
      "image/png": "[encoded data removed]",
      "text/plain": [
       "<Figure size 432x288 with 1 Axes>"
      ]
     },
     "metadata": {
      "needs_background": "light"
     },
     "output_type": "display_data"
    }
   ],
   "source": [
    "sns.boxplot(x='species', y='petal_length', data = df)"
   ]
  },
  {
   "cell_type": "code",
   "execution_count": null,
   "metadata": {},
   "outputs": [],
   "source": []
  }
 ],
 "metadata": {
  "kernelspec": {
   "display_name": "Python 3.10.4 64-bit",
   "language": "python",
   "name": "python3"
  },
  "language_info": {
   "codemirror_mode": {
    "name": "ipython",
    "version": 3
   },
   "file_extension": ".py",
   "mimetype": "text/x-python",
   "name": "python",
   "nbconvert_exporter": "python",
   "pygments_lexer": "ipython3",
   "version": "3.10.4"
  },
  "orig_nbformat": 4,
  "vscode": {
   "interpreter": {
    "hash": "ec5719e0bf1b7cbd683cf444d05be6e3b2060dc3e7a978f5df5f5d3c6be624b6"
   }
  }
 },
 "nbformat": 4,
 "nbformat_minor": 2
}
