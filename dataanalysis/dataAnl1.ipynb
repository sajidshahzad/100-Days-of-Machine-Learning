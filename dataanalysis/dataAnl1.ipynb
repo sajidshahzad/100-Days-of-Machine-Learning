{
 "cells": [
  {
   "cell_type": "markdown",
   "metadata": {},
   "source": [
    "## What is Data Analysis"
   ]
  },
  {
   "cell_type": "markdown",
   "metadata": {},
   "source": [
    "Data analysis is a process of inspecting, cleansing, transforming and modeling data with the goal of discovering useful information, informing conclusions and supporting decision-making."
   ]
  },
  {
   "cell_type": "markdown",
   "metadata": {},
   "source": [
    "# Data Analysis Process\n",
    "\n",
    "- Asking Questions\n",
    "- Data wrangling\n",
    "- Exploratory Data analysis\n",
    "- Drawing Conclusions\n",
    "- Communicating Results"
   ]
  },
  {
   "cell_type": "markdown",
   "metadata": {},
   "source": [
    "## Asking the Questions\n",
    "1. What features will contribute to my analysis?\n",
    "2. what features are not important for my analysis?\n",
    "3. Which of the features have a strong correlation?\n",
    "4. Do I need data preprocessing?\n",
    "5. What kind of feature manipulation/engineering is required?"
   ]
  },
  {
   "cell_type": "markdown",
   "metadata": {},
   "source": [
    "## How can I ask better questions?\n",
    "\n",
    "- Subject Matter Experties \n",
    "- Experience"
   ]
  },
  {
   "cell_type": "markdown",
   "metadata": {},
   "source": [
    "# Data Wrangling/Munging\n",
    "\n",
    "sometimes referred to as data munging, us the processing of transforming and mapping data from one \"raw\" data form into another format with the intent of making it more appropriate and valuable for variety of downstream purposes such as analytics.\n",
    "\n",
    "1. Gathering Data\n",
    "2. Assessing Data\n",
    "3. Cleaning Data"
   ]
  },
  {
   "cell_type": "markdown",
   "metadata": {},
   "source": [
    "## 1. Gathering Data"
   ]
  },
  {
   "cell_type": "markdown",
   "metadata": {},
   "source": [
    "- CSV files\n",
    "- API \n",
    "- Web Scraping\n",
    "- DataBases\n",
    "  "
   ]
  },
  {
   "cell_type": "markdown",
   "metadata": {},
   "source": [
    "# 2. Assessing Data\n",
    "\n",
    "1. Finding the numbeer of rows/columns(shape)\n",
    "2. Data types of various columns(info())\n",
    "3. Checking for missing values(info())\n",
    "4. Check for duplicate data(is_unique)\n",
    "5. Memory Occupied by the dataset(info)\n",
    "6. High level mathemathical overview of tha data(describe)"
   ]
  },
  {
   "cell_type": "markdown",
   "metadata": {},
   "source": [
    "# 3. Cleaning Data\n",
    "\n",
    "1. Missing Data\n",
    "2. Remove duplicate(drop_duplicate)\n",
    "3. Incorrect data types(astype)\n",
    "\n"
   ]
  },
  {
   "cell_type": "markdown",
   "metadata": {},
   "source": [
    "# Exploratory Data Analysis\n",
    "1. Explore \n",
    "2. Augment\n",
    "\n"
   ]
  },
  {
   "cell_type": "markdown",
   "metadata": {},
   "source": [
    "### 1. Explore\n",
    "\n",
    "1. Finding correlation and covariance\n",
    "2. doing univariate and multivariate analysis\n",
    "3. Ploting graphs (data visulaization)"
   ]
  },
  {
   "cell_type": "markdown",
   "metadata": {},
   "source": [
    "# 2. Agumenting Data\n",
    "\n",
    "- Removing Outliers \n",
    "- Merging Dataframes\n",
    "- Adding new Column\n",
    "\n",
    "These operations are collectively called as _**Featie Engineering**_\n",
    "\n"
   ]
  },
  {
   "cell_type": "markdown",
   "metadata": {},
   "source": [
    "# Drawing Conclusions\n",
    "\n",
    "- Machine Learning \n",
    "- Inferential Statistics\n",
    "- Descriptive Statistics"
   ]
  },
  {
   "cell_type": "markdown",
   "metadata": {},
   "source": [
    "# Communicating Results/Data Storytelling\n",
    "\n",
    "- In person\n",
    "- Reports\n",
    "- Blog Post\n",
    "- PPTs/Slide decks"
   ]
  },
  {
   "cell_type": "markdown",
   "metadata": {},
   "source": [
    "## Assessing Data "
   ]
  },
  {
   "cell_type": "markdown",
   "metadata": {},
   "source": [
    "In this step, the data is understood more deeply. Before implementing cleaning method on it. You will definitly need to have better idea about what the data is about."
   ]
  },
  {
   "cell_type": "markdown",
   "metadata": {},
   "source": [
    "## Types of unclean data\n",
    "  \n",
    "  tow types of unclean data.\n",
    "- Dirty Data (Data with Quality issues)\n",
    "- Messy Data (Data with tidiness issues)"
   ]
  },
  {
   "cell_type": "markdown",
   "metadata": {},
   "source": [
    "- Dirty Data \n",
    "\n",
    "  - Duplicated data\n",
    "  - Missing data\n",
    "  - Corrputed data\n",
    "  - Inaccurate data"
   ]
  },
  {
   "cell_type": "markdown",
   "metadata": {},
   "source": [
    "- Messy Data\n",
    "  \n",
    "when the data has structuer issues\n",
    "\n",
    "  - Each variable form a column\n",
    "  - Each observation form a row\n",
    "  - Each observational unit form a table"
   ]
  },
  {
   "cell_type": "markdown",
   "metadata": {},
   "source": [
    "## types of Assessment"
   ]
  },
  {
   "cell_type": "markdown",
   "metadata": {},
   "source": [
    "1. Manual - looking data manually from google sheet\n",
    "2. Progammatic - By using Panadas functions"
   ]
  },
  {
   "cell_type": "markdown",
   "metadata": {},
   "source": [
    "## Steps in Assessment"
   ]
  },
  {
   "cell_type": "markdown",
   "metadata": {},
   "source": [
    "1. Discover\n",
    "2. Document\n"
   ]
  },
  {
   "cell_type": "markdown",
   "metadata": {},
   "source": [
    "## Data Quality Dimensions\n",
    "\n",
    "1. Completeness Issues\n",
    "2. Validity Issues\n",
    "3. Accuracy Issues\n",
    "4. Consistency Issue"
   ]
  },
  {
   "cell_type": "markdown",
   "metadata": {},
   "source": []
  }
 ],
 "metadata": {
  "kernelspec": {
   "display_name": "Python 3.10.4 64-bit",
   "language": "python",
   "name": "python3"
  },
  "language_info": {
   "name": "python",
   "version": "3.10.4"
  },
  "orig_nbformat": 4,
  "vscode": {
   "interpreter": {
    "hash": "ec5719e0bf1b7cbd683cf444d05be6e3b2060dc3e7a978f5df5f5d3c6be624b6"
   }
  }
 },
 "nbformat": 4,
 "nbformat_minor": 2
}
