{
 "cells": [
  {
   "cell_type": "code",
   "execution_count": 1,
   "metadata": {},
   "outputs": [],
   "source": [
    "import mysql.connector"
   ]
  },
  {
   "cell_type": "code",
   "execution_count": 2,
   "metadata": {},
   "outputs": [
    {
     "name": "stderr",
     "output_type": "stream",
     "text": [
      "c:\\Users\\sajid\\AppData\\Local\\Programs\\Python\\Python310\\lib\\site-packages\\mysql\\connector\\abstracts.py:130: SyntaxWarning: \"is\" with a literal. Did you mean \"==\"?\n",
      "  if group is 'connector_python':\n",
      "c:\\Users\\sajid\\AppData\\Local\\Programs\\Python\\Python310\\lib\\site-packages\\mysql\\connector\\abstracts.py:130: SyntaxWarning: \"is\" with a literal. Did you mean \"==\"?\n",
      "  if group is 'connector_python':\n"
     ]
    },
    {
     "ename": "DatabaseError",
     "evalue": "1130: Host 'DESKTOP-4RNKAI7' is not allowed to connect to this MySQL server",
     "output_type": "error",
     "traceback": [
      "\u001b[1;31m---------------------------------------------------------------------------\u001b[0m",
      "\u001b[1;31mDatabaseError\u001b[0m                             Traceback (most recent call last)",
      "\u001b[1;32mc:\\Users\\sajid\\OneDrive\\Desktop\\100daysofpython\\MySql\\mysqlconnection.ipynb Cell 2\u001b[0m in \u001b[0;36m<cell line: 1>\u001b[1;34m()\u001b[0m\n\u001b[1;32m----> <a href='vscode-notebook-cell:/c%3A/Users/sajid/OneDrive/Desktop/100daysofpython/MySql/mysqlconnection.ipynb#W1sZmlsZQ%3D%3D?line=0'>1</a>\u001b[0m mdb \u001b[39m=\u001b[39m mysql\u001b[39m.\u001b[39;49mconnector\u001b[39m.\u001b[39;49mconnect(\n\u001b[0;32m      <a href='vscode-notebook-cell:/c%3A/Users/sajid/OneDrive/Desktop/100daysofpython/MySql/mysqlconnection.ipynb#W1sZmlsZQ%3D%3D?line=1'>2</a>\u001b[0m     host \u001b[39m=\u001b[39;49m \u001b[39m'\u001b[39;49m\u001b[39m'\u001b[39;49m,\n\u001b[0;32m      <a href='vscode-notebook-cell:/c%3A/Users/sajid/OneDrive/Desktop/100daysofpython/MySql/mysqlconnection.ipynb#W1sZmlsZQ%3D%3D?line=2'>3</a>\u001b[0m     user \u001b[39m=\u001b[39;49m \u001b[39m'\u001b[39;49m\u001b[39mroot\u001b[39;49m\u001b[39m'\u001b[39;49m,\n\u001b[0;32m      <a href='vscode-notebook-cell:/c%3A/Users/sajid/OneDrive/Desktop/100daysofpython/MySql/mysqlconnection.ipynb#W1sZmlsZQ%3D%3D?line=3'>4</a>\u001b[0m     password \u001b[39m=\u001b[39;49m \u001b[39m'\u001b[39;49m\u001b[39m1234\u001b[39;49m\u001b[39m'\u001b[39;49m,\n\u001b[0;32m      <a href='vscode-notebook-cell:/c%3A/Users/sajid/OneDrive/Desktop/100daysofpython/MySql/mysqlconnection.ipynb#W1sZmlsZQ%3D%3D?line=4'>5</a>\u001b[0m     database \u001b[39m=\u001b[39;49m \u001b[39m'\u001b[39;49m\u001b[39m'\u001b[39;49m\n\u001b[0;32m      <a href='vscode-notebook-cell:/c%3A/Users/sajid/OneDrive/Desktop/100daysofpython/MySql/mysqlconnection.ipynb#W1sZmlsZQ%3D%3D?line=5'>6</a>\u001b[0m )\n",
      "File \u001b[1;32mc:\\Users\\sajid\\AppData\\Local\\Programs\\Python\\Python310\\lib\\site-packages\\mysql\\connector\\__init__.py:179\u001b[0m, in \u001b[0;36mconnect\u001b[1;34m(*args, **kwargs)\u001b[0m\n\u001b[0;32m    177\u001b[0m     \u001b[39mreturn\u001b[39;00m CMySQLConnection(\u001b[39m*\u001b[39margs, \u001b[39m*\u001b[39m\u001b[39m*\u001b[39mkwargs)\n\u001b[0;32m    178\u001b[0m \u001b[39melse\u001b[39;00m:\n\u001b[1;32m--> 179\u001b[0m     \u001b[39mreturn\u001b[39;00m MySQLConnection(\u001b[39m*\u001b[39margs, \u001b[39m*\u001b[39m\u001b[39m*\u001b[39mkwargs)\n",
      "File \u001b[1;32mc:\\Users\\sajid\\AppData\\Local\\Programs\\Python\\Python310\\lib\\site-packages\\mysql\\connector\\connection.py:95\u001b[0m, in \u001b[0;36mMySQLConnection.__init__\u001b[1;34m(self, *args, **kwargs)\u001b[0m\n\u001b[0;32m     92\u001b[0m \u001b[39mself\u001b[39m\u001b[39m.\u001b[39m_pool_config_version \u001b[39m=\u001b[39m \u001b[39mNone\u001b[39;00m\n\u001b[0;32m     94\u001b[0m \u001b[39mif\u001b[39;00m \u001b[39mlen\u001b[39m(kwargs) \u001b[39m>\u001b[39m \u001b[39m0\u001b[39m:\n\u001b[1;32m---> 95\u001b[0m     \u001b[39mself\u001b[39m\u001b[39m.\u001b[39mconnect(\u001b[39m*\u001b[39m\u001b[39m*\u001b[39mkwargs)\n",
      "File \u001b[1;32mc:\\Users\\sajid\\AppData\\Local\\Programs\\Python\\Python310\\lib\\site-packages\\mysql\\connector\\abstracts.py:716\u001b[0m, in \u001b[0;36mMySQLConnectionAbstract.connect\u001b[1;34m(self, **kwargs)\u001b[0m\n\u001b[0;32m    713\u001b[0m     \u001b[39mself\u001b[39m\u001b[39m.\u001b[39mconfig(\u001b[39m*\u001b[39m\u001b[39m*\u001b[39mkwargs)\n\u001b[0;32m    715\u001b[0m \u001b[39mself\u001b[39m\u001b[39m.\u001b[39mdisconnect()\n\u001b[1;32m--> 716\u001b[0m \u001b[39mself\u001b[39;49m\u001b[39m.\u001b[39;49m_open_connection()\n\u001b[0;32m    717\u001b[0m \u001b[39mself\u001b[39m\u001b[39m.\u001b[39m_post_connection()\n",
      "File \u001b[1;32mc:\\Users\\sajid\\AppData\\Local\\Programs\\Python\\Python310\\lib\\site-packages\\mysql\\connector\\connection.py:207\u001b[0m, in \u001b[0;36mMySQLConnection._open_connection\u001b[1;34m(self)\u001b[0m\n\u001b[0;32m    205\u001b[0m \u001b[39mself\u001b[39m\u001b[39m.\u001b[39m_socket \u001b[39m=\u001b[39m \u001b[39mself\u001b[39m\u001b[39m.\u001b[39m_get_connection()\n\u001b[0;32m    206\u001b[0m \u001b[39mself\u001b[39m\u001b[39m.\u001b[39m_socket\u001b[39m.\u001b[39mopen_connection()\n\u001b[1;32m--> 207\u001b[0m \u001b[39mself\u001b[39;49m\u001b[39m.\u001b[39;49m_do_handshake()\n\u001b[0;32m    208\u001b[0m \u001b[39mself\u001b[39m\u001b[39m.\u001b[39m_do_auth(\u001b[39mself\u001b[39m\u001b[39m.\u001b[39m_user, \u001b[39mself\u001b[39m\u001b[39m.\u001b[39m_password,\n\u001b[0;32m    209\u001b[0m               \u001b[39mself\u001b[39m\u001b[39m.\u001b[39m_database, \u001b[39mself\u001b[39m\u001b[39m.\u001b[39m_client_flags, \u001b[39mself\u001b[39m\u001b[39m.\u001b[39m_charset_id,\n\u001b[0;32m    210\u001b[0m               \u001b[39mself\u001b[39m\u001b[39m.\u001b[39m_ssl)\n\u001b[0;32m    211\u001b[0m \u001b[39mself\u001b[39m\u001b[39m.\u001b[39mset_converter_class(\u001b[39mself\u001b[39m\u001b[39m.\u001b[39m_converter_class)\n",
      "File \u001b[1;32mc:\\Users\\sajid\\AppData\\Local\\Programs\\Python\\Python310\\lib\\site-packages\\mysql\\connector\\connection.py:101\u001b[0m, in \u001b[0;36mMySQLConnection._do_handshake\u001b[1;34m(self)\u001b[0m\n\u001b[0;32m     99\u001b[0m packet \u001b[39m=\u001b[39m \u001b[39mself\u001b[39m\u001b[39m.\u001b[39m_socket\u001b[39m.\u001b[39mrecv()\n\u001b[0;32m    100\u001b[0m \u001b[39mif\u001b[39;00m packet[\u001b[39m4\u001b[39m] \u001b[39m==\u001b[39m \u001b[39m255\u001b[39m:\n\u001b[1;32m--> 101\u001b[0m     \u001b[39mraise\u001b[39;00m errors\u001b[39m.\u001b[39mget_exception(packet)\n\u001b[0;32m    103\u001b[0m \u001b[39mself\u001b[39m\u001b[39m.\u001b[39m_handshake \u001b[39m=\u001b[39m \u001b[39mNone\u001b[39;00m\n\u001b[0;32m    104\u001b[0m \u001b[39mtry\u001b[39;00m:\n",
      "\u001b[1;31mDatabaseError\u001b[0m: 1130: Host 'DESKTOP-4RNKAI7' is not allowed to connect to this MySQL server"
     ]
    }
   ],
   "source": [
    "mydb = mysql.connector.connect(\n",
    "    host = '',\n",
    "    user = 'root',\n",
    "    password = '1234',\n",
    "    database = ''\n",
    ")"
   ]
  },
  {
   "cell_type": "code",
   "execution_count": 3,
   "metadata": {},
   "outputs": [
    {
     "ename": "NameError",
     "evalue": "name 'mydb' is not defined",
     "output_type": "error",
     "traceback": [
      "\u001b[1;31m---------------------------------------------------------------------------\u001b[0m",
      "\u001b[1;31mNameError\u001b[0m                                 Traceback (most recent call last)",
      "\u001b[1;32mc:\\Users\\sajid\\OneDrive\\Desktop\\100daysofpython\\MySql\\mysqlconnection.ipynb Cell 3\u001b[0m in \u001b[0;36m<cell line: 1>\u001b[1;34m()\u001b[0m\n\u001b[1;32m----> <a href='vscode-notebook-cell:/c%3A/Users/sajid/OneDrive/Desktop/100daysofpython/MySql/mysqlconnection.ipynb#W2sZmlsZQ%3D%3D?line=0'>1</a>\u001b[0m mycusor \u001b[39m=\u001b[39m mydb\u001b[39m.\u001b[39mcouser\n",
      "\u001b[1;31mNameError\u001b[0m: name 'mydb' is not defined"
     ]
    }
   ],
   "source": [
    "mycusor = mydb.couser"
   ]
  },
  {
   "cell_type": "code",
   "execution_count": 4,
   "metadata": {},
   "outputs": [
    {
     "ename": "NameError",
     "evalue": "name 'mycouser' is not defined",
     "output_type": "error",
     "traceback": [
      "\u001b[1;31m---------------------------------------------------------------------------\u001b[0m",
      "\u001b[1;31mNameError\u001b[0m                                 Traceback (most recent call last)",
      "\u001b[1;32mc:\\Users\\sajid\\OneDrive\\Desktop\\100daysofpython\\MySql\\mysqlconnection.ipynb Cell 4\u001b[0m in \u001b[0;36m<cell line: 2>\u001b[1;34m()\u001b[0m\n\u001b[0;32m      <a href='vscode-notebook-cell:/c%3A/Users/sajid/OneDrive/Desktop/100daysofpython/MySql/mysqlconnection.ipynb#W3sZmlsZQ%3D%3D?line=0'>1</a>\u001b[0m \u001b[39m# fetching data\u001b[39;00m\n\u001b[1;32m----> <a href='vscode-notebook-cell:/c%3A/Users/sajid/OneDrive/Desktop/100daysofpython/MySql/mysqlconnection.ipynb#W3sZmlsZQ%3D%3D?line=1'>2</a>\u001b[0m mycouser\u001b[39m.\u001b[39mexcute()\n",
      "\u001b[1;31mNameError\u001b[0m: name 'mycouser' is not defined"
     ]
    }
   ],
   "source": [
    "# fetching data\n",
    "mycusor.excute()"
   ]
  }
 ],
 "metadata": {
  "kernelspec": {
   "display_name": "Python 3.10.4 64-bit",
   "language": "python",
   "name": "python3"
  },
  "language_info": {
   "codemirror_mode": {
    "name": "ipython",
    "version": 3
   },
   "file_extension": ".py",
   "mimetype": "text/x-python",
   "name": "python",
   "nbconvert_exporter": "python",
   "pygments_lexer": "ipython3",
   "version": "3.10.4"
  },
  "orig_nbformat": 4,
  "vscode": {
   "interpreter": {
    "hash": "ec5719e0bf1b7cbd683cf444d05be6e3b2060dc3e7a978f5df5f5d3c6be624b6"
   }
  }
 },
 "nbformat": 4,
 "nbformat_minor": 2
}
