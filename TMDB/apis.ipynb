{
 "cells": [
  {
   "cell_type": "code",
   "execution_count": 2,
   "metadata": {},
   "outputs": [],
   "source": [
    "import pandas as pd\n",
    "import requests\n",
    "from bs4 import BeautifulSoup"
   ]
  },
  {
   "cell_type": "code",
   "execution_count": 3,
   "metadata": {},
   "outputs": [
    {
     "name": "stderr",
     "output_type": "stream",
     "text": [
      "C:\\Users\\sajid\\AppData\\Local\\Temp\\ipykernel_19072\\1495373592.py:17: FutureWarning: The frame.append method is deprecated and will be removed from pandas in a future version. Use pandas.concat instead.\n",
      "  final_movies =  final_movies.append(df, ignore_index = True)\n"
     ]
    }
   ],
   "source": [
    "final_movies = pd.DataFrame()\n",
    "for j in range(1, 501):\n",
    "    url = 'https://www.themoviedb.org/movie?page={}'.format(j)\n",
    "    headers = {'User-Agent': 'Mozilla/5.0 (X11; Linux x86_64) '\\\n",
    "            'AppleWebKit/537.36 (KHTML, like Gecko) '\\\n",
    "            'Chrome/75.0.3770.80 Safari/537.36'}\n",
    "    webpage = requests.get(url, headers=headers).text\n",
    "    soup = BeautifulSoup(webpage, 'lxml')\n",
    "    movies =soup.find_all('div', class_='card style_1')\n",
    "    movies_name= []\n",
    "    relased = []\n",
    "    for i in movies:\n",
    "        movies_name.append(i.find('h2').text.strip())\n",
    "        relased.append(i.find('p').text.strip())\n",
    "    d ={'movies name' : movies_name, 'relased date' : relased}\n",
    "    df = pd.DataFrame(d)\n",
    "    final_movies =  final_movies.append(df, ignore_index = True)\n",
    "final_movies.set_index()\n"
   ]
  },
  {
   "cell_type": "code",
   "execution_count": 8,
   "metadata": {},
   "outputs": [],
   "source": [
    "final_movies.to_csv('tmddata.csv', index=False)"
   ]
  },
  {
   "cell_type": "code",
   "execution_count": 14,
   "metadata": {},
   "outputs": [
    {
     "name": "stdout",
     "output_type": "stream",
     "text": [
      "<class 'pandas.core.frame.DataFrame'>\n",
      "RangeIndex: 10000 entries, 0 to 9999\n",
      "Data columns (total 2 columns):\n",
      " #   Column        Non-Null Count  Dtype \n",
      "---  ------        --------------  ----- \n",
      " 0   movies name   10000 non-null  object\n",
      " 1   relased date  10000 non-null  object\n",
      "dtypes: object(2)\n",
      "memory usage: 156.4+ KB\n"
     ]
    }
   ],
   "source": [
    "df = pd.read_csv('tmddata.csv')\n",
    "df.info()"
   ]
  },
  {
   "cell_type": "code",
   "execution_count": null,
   "metadata": {},
   "outputs": [],
   "source": []
  }
 ],
 "metadata": {
  "kernelspec": {
   "display_name": "Python 3.10.4 64-bit",
   "language": "python",
   "name": "python3"
  },
  "language_info": {
   "codemirror_mode": {
    "name": "ipython",
    "version": 3
   },
   "file_extension": ".py",
   "mimetype": "text/x-python",
   "name": "python",
   "nbconvert_exporter": "python",
   "pygments_lexer": "ipython3",
   "version": "3.10.4"
  },
  "orig_nbformat": 4,
  "vscode": {
   "interpreter": {
    "hash": "ec5719e0bf1b7cbd683cf444d05be6e3b2060dc3e7a978f5df5f5d3c6be624b6"
   }
  }
 },
 "nbformat": 4,
 "nbformat_minor": 2
}
