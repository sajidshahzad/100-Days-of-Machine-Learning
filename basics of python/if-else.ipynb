{
 "cells": [
  {
   "cell_type": "markdown",
   "metadata": {},
   "source": [
    "## IF-else Statement"
   ]
  },
  {
   "cell_type": "code",
   "execution_count": 10,
   "metadata": {},
   "outputs": [
    {
     "name": "stdout",
     "output_type": "stream",
     "text": [
      "Rnter the correct email\n"
     ]
    }
   ],
   "source": [
    "email = input(\"Enter the e-mail: \")\n",
    "if '@' in email:\n",
    "    password= input(\"Enter the password: \")\n",
    "    if email == \"sajidshahzad266@gmail.com\" and password == \"1234\":\n",
    "        print(\"WelCome\")\n",
    "    elif email == \"sajidshahzad266@gmail.com\"  and password != \"1234\":\n",
    "        print(\"Incorrect password\")\n",
    "        password = input(\"Enter the correct password: \")\n",
    "        if password == \"1234\":\n",
    "            print(\"Finally welcome\")\n",
    "        else:\n",
    "            print(\"still incorrect!!!\")\n",
    "    else:\n",
    "        print(\"invaild input\")\n",
    "else:\n",
    "    print(\"Enter the correct email\")\n"
   ]
  },
  {
   "cell_type": "code",
   "execution_count": null,
   "metadata": {},
   "outputs": [],
   "source": []
  }
 ],
 "metadata": {
  "kernelspec": {
   "display_name": "Python 3.10.4 64-bit",
   "language": "python",
   "name": "python3"
  },
  "language_info": {
   "codemirror_mode": {
    "name": "ipython",
    "version": 3
   },
   "file_extension": ".py",
   "mimetype": "text/x-python",
   "name": "python",
   "nbconvert_exporter": "python",
   "pygments_lexer": "ipython3",
   "version": "3.10.4"
  },
  "orig_nbformat": 4,
  "vscode": {
   "interpreter": {
    "hash": "ec5719e0bf1b7cbd683cf444d05be6e3b2060dc3e7a978f5df5f5d3c6be624b6"
   }
  }
 },
 "nbformat": 4,
 "nbformat_minor": 2
}
