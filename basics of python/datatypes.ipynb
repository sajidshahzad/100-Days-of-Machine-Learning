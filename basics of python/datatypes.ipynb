{
 "cells": [
  {
   "cell_type": "markdown",
   "metadata": {},
   "source": [
    "# Python Support three Categories of Data-types:\n",
    "- Basic types - (Integers, Floats, Complux, Booleann and Strings)\n",
    "- Container type - (List, Tuples, Dictionary and Sets)\n",
    "- User-Defined Data-types - Class\n"
   ]
  },
  {
   "cell_type": "markdown",
   "metadata": {},
   "source": [
    "# Integers\n",
    "In Python, integers are zero, positive or negative whole numbers without a fractional part and having unlimited precision, e.g. 0, 100, -10.\n",
    "the length of a int variable is 1e308."
   ]
  },
  {
   "cell_type": "code",
   "execution_count": 3,
   "metadata": {},
   "outputs": [
    {
     "name": "stdout",
     "output_type": "stream",
     "text": [
      "2\n",
      "1e+308\n",
      "inf\n"
     ]
    }
   ],
   "source": [
    "#Integers\n",
    "print(2)\n",
    "print(1e308)\n",
    "print(1e309)"
   ]
  },
  {
   "cell_type": "markdown",
   "metadata": {},
   "source": [
    "# Floats\n",
    "In Python, Floats are fractional numbers, positive or negative real numbers with a fractional part denoted by the decimal symbol '.', e.g. 1.9, 100.09, -10.92.\n",
    "the length of a int variable is 1.9e308."
   ]
  },
  {
   "cell_type": "code",
   "execution_count": 6,
   "metadata": {},
   "outputs": [
    {
     "name": "stdout",
     "output_type": "stream",
     "text": [
      "3.4\n",
      "1.3e+308\n",
      "inf\n"
     ]
    }
   ],
   "source": [
    "print(3.4)\n",
    "print(1.3e308)\n",
    "print(1.2e309)"
   ]
  },
  {
   "cell_type": "markdown",
   "metadata": {},
   "source": [
    "# Boolean"
   ]
  },
  {
   "cell_type": "code",
   "execution_count": 7,
   "metadata": {},
   "outputs": [
    {
     "name": "stdout",
     "output_type": "stream",
     "text": [
      "True\n",
      "False\n"
     ]
    }
   ],
   "source": [
    "print(True)\n",
    "print(False)"
   ]
  },
  {
   "cell_type": "markdown",
   "metadata": {},
   "source": [
    "# Complux"
   ]
  },
  {
   "cell_type": "code",
   "execution_count": 8,
   "metadata": {},
   "outputs": [
    {
     "name": "stdout",
     "output_type": "stream",
     "text": [
      "(5+2j)\n"
     ]
    }
   ],
   "source": [
    "print(5+2j)"
   ]
  },
  {
   "cell_type": "markdown",
   "metadata": {},
   "source": [
    "# Strings"
   ]
  },
  {
   "cell_type": "code",
   "execution_count": 11,
   "metadata": {},
   "outputs": [
    {
     "name": "stdout",
     "output_type": "stream",
     "text": [
      "Hello World\n",
      "Helloo World\n",
      "HelloooO0O World \n"
     ]
    }
   ],
   "source": [
    "# String\n",
    "print(\"Hello World\")\n",
    "print('Helloo World')\n",
    "print(\"\"\"HelloooO0O World \"\"\")"
   ]
  },
  {
   "cell_type": "markdown",
   "metadata": {},
   "source": [
    "# List"
   ]
  },
  {
   "cell_type": "code",
   "execution_count": 12,
   "metadata": {},
   "outputs": [
    {
     "name": "stdout",
     "output_type": "stream",
     "text": [
      "[1, 2, 34, 5]\n"
     ]
    }
   ],
   "source": [
    "print([1,2,34,5])"
   ]
  },
  {
   "cell_type": "markdown",
   "metadata": {},
   "source": [
    "# Tuples"
   ]
  },
  {
   "cell_type": "code",
   "execution_count": 13,
   "metadata": {},
   "outputs": [
    {
     "name": "stdout",
     "output_type": "stream",
     "text": [
      "(1, 2, 3, 4, 5)\n"
     ]
    }
   ],
   "source": [
    "print((1,2,3,4,5))"
   ]
  },
  {
   "cell_type": "markdown",
   "metadata": {},
   "source": [
    "# Sets"
   ]
  },
  {
   "cell_type": "code",
   "execution_count": 14,
   "metadata": {},
   "outputs": [
    {
     "name": "stdout",
     "output_type": "stream",
     "text": [
      "{1, 2, 3, 4, 5}\n"
     ]
    }
   ],
   "source": [
    "print({1,2,3,4,5})"
   ]
  },
  {
   "cell_type": "markdown",
   "metadata": {},
   "source": [
    "# Dictionary"
   ]
  },
  {
   "cell_type": "code",
   "execution_count": 17,
   "metadata": {},
   "outputs": [
    {
     "name": "stdout",
     "output_type": "stream",
     "text": [
      "{'firstname': 'Sajid', 'lastname': 'Shahzad', 'Age': 24, 'gender': 'Male'}\n"
     ]
    }
   ],
   "source": [
    "print({\n",
    "    \"firstname\":\"Sajid\",\n",
    "    \"lastname\":\"Shahzad\",\n",
    "    \"Age\":24,\n",
    "    \"gender\":\"Male\"\n",
    "})"
   ]
  },
  {
   "cell_type": "markdown",
   "metadata": {},
   "source": [
    "# Comments \n",
    "to enhance the readability of the code.\n",
    "start withe '#' is single line comment\n"
   ]
  },
  {
   "cell_type": "code",
   "execution_count": null,
   "metadata": {},
   "outputs": [],
   "source": []
  }
 ],
 "metadata": {
  "kernelspec": {
   "display_name": "Python 3.10.4 64-bit",
   "language": "python",
   "name": "python3"
  },
  "language_info": {
   "codemirror_mode": {
    "name": "ipython",
    "version": 3
   },
   "file_extension": ".py",
   "mimetype": "text/x-python",
   "name": "python",
   "nbconvert_exporter": "python",
   "pygments_lexer": "ipython3",
   "version": "3.10.4"
  },
  "orig_nbformat": 4,
  "vscode": {
   "interpreter": {
    "hash": "ec5719e0bf1b7cbd683cf444d05be6e3b2060dc3e7a978f5df5f5d3c6be624b6"
   }
  }
 },
 "nbformat": 4,
 "nbformat_minor": 2
}
